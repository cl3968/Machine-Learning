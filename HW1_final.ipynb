{
 "cells": [
  {
   "cell_type": "markdown",
   "metadata": {},
   "source": [
    "#### CSCI-UA.0473-​001 Introduction to Machine Learning\n",
    "\n",
    "# Homework 1\n",
    "\n",
    "\n",
    "### Name: Christina Liu\n",
    "\n",
    "\n",
    "### Due: Oct. 2, 2019\n",
    "\n",
    "\n",
    "## Goal:  The goal of this homework is to practice implementing a logistic regression model and gradient descent as well as to explore some theoretical concepts."
   ]
  },
  {
   "cell_type": "markdown",
   "metadata": {},
   "source": [
    "You will need the following packages below to do the homework.  Please DO NOT import any other packages."
   ]
  },
  {
   "cell_type": "code",
   "execution_count": 63,
   "metadata": {},
   "outputs": [],
   "source": [
    "from autograd import grad\n",
    "import autograd.numpy as np\n",
    "import matplotlib.pyplot as plt\n",
    "from sklearn.datasets.samples_generator import make_blobs"
   ]
  },
  {
   "cell_type": "markdown",
   "metadata": {},
   "source": [
    "## Problem 1: Gradient Descent (40 pts total)\n",
    "\n",
    "In this problem we will study gradient descent for optimization."
   ]
  },
  {
   "cell_type": "markdown",
   "metadata": {},
   "source": [
    "### Part (a) (10pts) Implementing gradient descent with a fixed learning rate\n",
    "\n",
    "Using autograd, implement gradient descent with a fixed learning rate for a general function."
   ]
  },
  {
   "cell_type": "code",
   "execution_count": 64,
   "metadata": {},
   "outputs": [],
   "source": [
    "\"\"\"\n",
    "Input:\n",
    "    fun : function\n",
    "    x0  : initial point\n",
    "    lr  : fixed learning rate\n",
    "    iterations : number of iterations to perform\n",
    "    \n",
    "Return:\n",
    "    x   : minimizer to fun\n",
    "\"\"\"\n",
    "def gradient_descent_fixed(fun, x0, lr, iterations):\n",
    "    # compute gradient\n",
    "    gradient = grad(fun)\n",
    "    \n",
    "    x = x0\n",
    "    cost_history = np.zeros(iterations//10)\n",
    "    weight_history = np.zeros((iterations//10, 21))\n",
    "                            \n",
    "    for i in range(iterations):\n",
    "        grad_val = gradient(x)\n",
    "        x = x - (lr * grad_val)\n",
    "        if (i % 10 == 0):\n",
    "            cost_history[i//10] = fun(x)\n",
    "            weight_history[i//10] = x\n",
    "    return x, cost_history, weight_history"
   ]
  },
  {
   "cell_type": "markdown",
   "metadata": {},
   "source": [
    "### Part (b) (10 pts) Using a variable learning rate\n",
    "\n",
    "Sometimes it is necessary to decrease our learning rate as we iterate to help gradient descent converge.  Implement gradient descent below where the learning rate at iteration $i$ is given by\n",
    "$$\n",
    "\\mathrm{lr}_i = \\frac{\\mathrm{lr}_0}{i+1}.\n",
    "$$"
   ]
  },
  {
   "cell_type": "code",
   "execution_count": 65,
   "metadata": {},
   "outputs": [],
   "source": [
    "\"\"\"\n",
    "Input:\n",
    "    fun : function\n",
    "    x0  : initial point\n",
    "    lr  : initial learning rate\n",
    "    iterations : number of iterations to perform\n",
    "    \n",
    "Return:\n",
    "    x   : minimizer to fun\n",
    "\"\"\"\n",
    "def gradient_descent_variable(fun, x0, lr, iterations): \n",
    "    # compute gradient\n",
    "    gradient = grad(fun)\n",
    "\n",
    "    x = x0\n",
    "    cost_history = np.zeros(iterations//10)\n",
    "    weight_history = np.zeros((iterations//10, 21))\n",
    "    \n",
    "    for i in range(iterations):\n",
    "        grad_val = gradient(x)\n",
    "        curr_lr = lr/(i+1)\n",
    "        x = x - (curr_lr * grad_val)\n",
    "        \n",
    "        if (i % 10 == 0):\n",
    "            cost_history[i//10] = fun(x)\n",
    "            weight_history[i//10] = x\n",
    "        \n",
    "    return x, cost_history, weight_history"
   ]
  },
  {
   "cell_type": "markdown",
   "metadata": {},
   "source": [
    "### Part (c) (10 pts)  Choosing the learning rate\n",
    "\n",
    "Let $\\alpha$ denote the learning rate and consider the function $f(x) = \\frac{1}{2}x^2$.  The gradient descent update rule at iteration $n+1$ is given by\n",
    "$$\n",
    "x_{n+1} = x_n - \\alpha f'(x_n)\n",
    "$$\n",
    "Is there a critical value $\\alpha_0$ so that if $\\alpha \\ge \\alpha_0$ then gradient descent will not converge for $f(x)$?  If so what is it and explain why?"
   ]
  },
  {
   "cell_type": "markdown",
   "metadata": {},
   "source": [
    "*Answer goes here:*\n",
    "\n",
    "If $f(x_{n+1}) \\leq f(x_{n})$ at every iteration of gradient descent, it converges until it until it reaches the optimal value $f(x) = f(x^{*})$. This convergence result only holds when we choose a learning rate $\\alpha$ to be small enough. Otherwise, a gradient descent with a learning rate too large will diverge. \n",
    "\n",
    "\n",
    "We can find a critical value $\\alpha_0$ (learning rate) where gradient descent will not converge, when $f(x_{n+1}) \\geq f(x_{n})$ is observed.\n",
    "\n",
    "Below, we have found a critical value $\\alpha_{0} = 2$, such that when  $\\alpha \\ge 2$, gradient descent for function $f(x) = \\frac{1}{2}x^2$ will *not* converge.\n",
    "\n",
    "$$\n",
    "f(x_{n+1}) \\geq f(x_{n})\n",
    "$$\n",
    "\n",
    "$$\n",
    "f(x_{n+1}) - f(x_{n}) \\geq 0\n",
    "$$\n",
    "\n",
    "$$\n",
    "\\frac{1}{2}(x_{n+1})^{2} - \\frac{1}{2}(x_{n})^{2} \\geq 0\n",
    "$$\n",
    "\n",
    "$$\n",
    "\\frac{1}{2}(x_{n+1})^{2} - \\frac{1}{2}(x_{n})^{2} \\geq 0\n",
    "$$\n",
    "\n",
    "$$\n",
    "\\frac{1}{2}(x_{n}-\\alpha x_{n})^{2} - \\frac{1}{2}(x_{n})^{2} \\geq 0\n",
    "$$\n",
    "\n",
    "$$\n",
    "\\frac{1}{2} x_{n}^2 (1-2 \\alpha + \\alpha ^2 -1) \\geq 0\n",
    "$$\n",
    "\n",
    "$$\n",
    "\\frac{1}{2} x_{n}^2 (-2 \\alpha + \\alpha ^2) \\geq 0\n",
    "$$\n",
    "\n",
    "$$\n",
    "-2 \\alpha + \\alpha ^2 \\geq 0\n",
    "$$\n",
    "\n",
    "\n",
    "$$\n",
    "\\alpha \\geq 0 \\ or \\ \\boxed{\\alpha \\geq 2}\n",
    "$$\n",
    "\n"
   ]
  },
  {
   "cell_type": "markdown",
   "metadata": {},
   "source": [
    "### Part (d)  (10 pts) Feature scaling\n",
    "\n",
    "Oftentimes it is advantageous to rescale or normalize our features.  As a toy example suppose we want to predict a person's weight (in kgs.) based on their height.  We would like an algorithm that gives equally good predictions whether height is measured in centimeters or kilometers.  For a concrete example, consider the 2D optimization problems:\n",
    "$$\n",
    "\\mathrm{argmin}_{x\\in \\mathbb{R}^2}\\ x^T \\Sigma_i x, \\quad i = 1,2\n",
    "$$\n",
    "where\n",
    "$$\n",
    "\\Sigma_1 = \\begin{bmatrix}\n",
    "1 & 0\\\\\n",
    "0 & 1\n",
    "\\end{bmatrix}, \\quad \n",
    "\\Sigma_2 = \\begin{bmatrix}\n",
    "1 & 0\\\\\n",
    "0 & 100\n",
    "\\end{bmatrix}.\n",
    "$$\n",
    "Suppose our starting point is the same $x_0 = (1, 1)^T$ for both optimization problems.  For a fixed learning rate, will gradient descent perform better on problem $i=1$ or $i=2$?  Explain why."
   ]
  },
  {
   "cell_type": "markdown",
   "metadata": {},
   "source": [
    "*Answer goes here:*\n",
    "\n",
    "For a fixed learning rate, gradient descent will perform better on a problem with a small range -- i.e. the smaller the range of the problem, the less values that need to be tested before reaching convergence.\n",
    "\n",
    "In this example, gradient descent will perform better on problem $i=1$ because it involves a smaller range of values than problem $i=2$."
   ]
  },
  {
   "cell_type": "markdown",
   "metadata": {},
   "source": [
    "## Problem 2:  Logistic Regression (60 pts total)\n",
    "\n",
    "In this problem you will implement all of the steps that are taken care of whenever the \"fit\" function from sci-kit is called."
   ]
  },
  {
   "cell_type": "markdown",
   "metadata": {},
   "source": [
    "### Part (a) (15 pts) Logistic Unit\n",
    "\n",
    "For binary classification $y \\in \\{0,1\\}$ we will model the posterior probability $p(y = 1 | x)$ with the logistic unit \n",
    "$$\n",
    "h(x; w) = \\frac{1}{1 + \\exp(-w^Tx)}\n",
    "$$\n",
    "We will use the convention that $x_0 = 1$.  Implement this function below using the skeletal outline as a guide.  Suppose we use a discriminant function $f(x)$ which assigns the label $y = 1$ if $p(y = 1 | x) \\ge 0.5$ and $0$ otherwise.  In other words, with a discriminant function we do not need the posterior probabilities but rather skip straight to the classification.  \n",
    "\n",
    "\n",
    "Give a geometric interpretation of our classifier once the parameters $w$ have been learned.  What does the angle between $w$ and $x$ tell us about the predicted class value?  For which angles do we predict $y=1$?"
   ]
  },
  {
   "cell_type": "code",
   "execution_count": 66,
   "metadata": {},
   "outputs": [],
   "source": [
    "\"\"\"\n",
    "Input:\n",
    "    w: weight vector\n",
    "    X: data\n",
    "\n",
    "Return:\n",
    "    logits : h(x;w)\n",
    "\"\"\"\n",
    "\n",
    "def logistic_unit(X, w):\n",
    "    z = np.dot(w,np.transpose(X))\n",
    "    logits = 1/(1+np.exp(-z))\n",
    "    return logits\n"
   ]
  },
  {
   "cell_type": "markdown",
   "metadata": {},
   "source": [
    "*Answer goes here:*\n",
    "\n",
    "Our classifier once the parameters $w$ have been learned is a hyperplane perpendicular to $w$ which divides our space into points labeled $y=1$ and points labeled $y=0$ (a decision boundary).\n",
    "\n",
    "The angle between $w$ and $x$ (let's call $\\theta$) can tell us whether the prediced class value is $y=1$ OR $y=0$.\n",
    "\n",
    "Our logistic unit outputs a probability value $\\in [0,1]$ and largely depends on variable value $w^Tx$\n",
    "$$\n",
    "h(x; w) = \\frac{1}{1 + \\exp(-w^Tx)}\n",
    "$$\n",
    "\n",
    "Knowing that $w^Tx =  \\lvert w^T \\rvert \\ \\lvert x \\rvert \\cdot cos(\\theta)$, we can deduce:\n",
    "\n",
    "- if $cos(\\theta) \\leq 90^{\\circ}$,\n",
    "    - then $w^Tx \\geq 0$, which makes logistic unit output a probability $0.5 < h(x) < 1$\n",
    "    - $\\implies$ label $y=1$\n",
    "- else, if $cos(\\theta) > 90^{\\circ}$,\n",
    "    - then $w^Tx < 0$, which makes logistic unit output a probability $h(x) < 0.5$\n",
    "    - $\\implies$ label $y=0$\n"
   ]
  },
  {
   "cell_type": "markdown",
   "metadata": {},
   "source": [
    "### Part (b) (10 pts) Deriving the loss function\n",
    "\n",
    "We have implicitly made the assumption that $y|x \\sim \\mathrm{Bernoulli}(h(x;w))$.  If we have an iid dataset $\\{(x_i,y_i)\\}_{i=1}^N$, then we can write the data likelihood as\n",
    "$$\n",
    "p(\\vec{y}| X, w) = \\prod_{i=1}^N p(y_i | x_i, w)\n",
    "$$\n",
    "We can learn the parameter $w$ by maximizing this probability (i.e. we find the MLE) or equivalently minimizing $J(w) = -\\log p(\\vec{y} | X, w)$.  Derive the loss function $J(w)$ step-by-step and implement it using the skeletal outline below."
   ]
  },
  {
   "cell_type": "markdown",
   "metadata": {},
   "source": [
    "*Derivation goes here:*\n",
    "\n",
    "From part $2a$, we know the logistic unit function $h(x;w)$ outputs a probability value $\\in [0,1]$, which is then mapped to a corresponding $y$ value.\n",
    "\n",
    "Given an iid dataset $\\{(x_i,y_i)\\}_{i=1}^N$, we can model two posterior probability outcomes:\n",
    "- $p(y_i =1|x_i)= p = h(x_i;w)$\n",
    "- $p(y_i =0|x_i)= 1-p = 1-h(x_i;w)$\n",
    "\n",
    "Expressed as a single $y|x \\sim \\mathrm{Bernoulli}(h(x;w))$, we get:\n",
    "\n",
    "$$\n",
    "p(y_i|x_i)=h(x;w)^{y_i} (1-h(x;w))^{1-y_i}\n",
    "$$\n",
    "\n",
    "Combining these independent Bernoulli distributions, we can obtain the data likelihood function, given by:\n",
    "\n",
    "$$\n",
    "p(\\vec{y}| X, w) = \\prod_{i=1}^N p(y_i | x_i, w)\n",
    "$$\n",
    "\n",
    "$$\n",
    "= \\prod_{i=1}^N h(x;w)^{y_i} (1-h(x;w))^{1-y_i}\n",
    "$$\n",
    "\n",
    "Then taking the log of both sides to simplify exponents, we obtain a log likelihood function: \n",
    "\n",
    "$$\n",
    "J(w)= -\\sum_{i=1}^N y_i \\log(h(x_i;w)) + (1-y_i)\\log(1-h(x_i;w)))\n",
    "$$"
   ]
  },
  {
   "cell_type": "code",
   "execution_count": 67,
   "metadata": {},
   "outputs": [],
   "source": [
    "\"\"\"\n",
    "Input:\n",
    "    w : weight vector\n",
    "    X : dataset features\n",
    "    y : dataset targets\n",
    "\n",
    "Return:\n",
    "    J : loss of w given X,y\n",
    "\"\"\"\n",
    "def loss(w, X, y):\n",
    "    def J(w):\n",
    "        return -(np.sum(y*np.log(logistic_unit(X,w)+1e-7)+(1-y)*np.log(1-logistic_unit(X,w)+1e-7)))\n",
    "    return J\n"
   ]
  },
  {
   "cell_type": "markdown",
   "metadata": {},
   "source": [
    "### Part (c) (5 pts) Splitting the data for training and testing\n",
    "\n",
    "Now we'll actually learn a logistic regression model for some synthetic data.\n",
    "\n",
    "First split the dataset into a training, validation, and test set.  Use a 40/40/20 split (roughly 40/40/20 is fine)."
   ]
  },
  {
   "cell_type": "code",
   "execution_count": 68,
   "metadata": {},
   "outputs": [],
   "source": [
    "# We first generate some fake data.\n",
    "X, y = make_blobs(n_samples = 10000, centers = 2, n_features = 20, cluster_std = 20)\n",
    "\n",
    "# We'll also augment the data so that x_0 = 1 for the intercept term.\n",
    "X = np.append(np.ones((len(X), 1)), X, axis = 1)\n",
    "\n",
    "\n",
    "# TO DO:\n",
    "def train_val_test_shuffle(features, targets):\n",
    "    p = np.random.permutation(features.shape[0])\n",
    "    return features[p], targets[p]\n",
    "\n",
    "shuffled_X, shuffled_y = train_val_test_shuffle(X, y)\n",
    "training_X = shuffled_X[:4000]\n",
    "training_y = shuffled_y[:4000]\n",
    "\n",
    "validation_X = shuffled_X[4000:8000]\n",
    "validation_y = shuffled_y[4000:8000]\n",
    "\n",
    "test_X = shuffled_X[8000:]\n",
    "test_y = shuffled_y[8000:]"
   ]
  },
  {
   "cell_type": "markdown",
   "metadata": {},
   "source": [
    "### Part (d) (20pts) \n",
    "\n",
    "Now use your gradient descent function to learn the parameters $w$ using 1000 iterations.  You may choose the learning rate and initial parameters $w_0$ for this problem.  Compare both the fixed learning rate and variable learning rate gradient descents side by side (i.e. 2 subplots).\n",
    "\n",
    "For each method, plot the loss of both the training set and the validation set.  Make sure your plots are labeled properly with $x$ and $y$ axis labels, a legend, title, and different colors to distinguish the two curves on each subplot."
   ]
  },
  {
   "cell_type": "code",
   "execution_count": 69,
   "metadata": {
    "scrolled": true
   },
   "outputs": [
    {
     "data": {
      "image/png": "[encoded data removed]",
      "text/plain": [
       "<Figure size 720x360 with 2 Axes>"
      ]
     },
     "metadata": {
      "needs_background": "light"
     },
     "output_type": "display_data"
    }
   ],
   "source": [
    "# TO DO\n",
    "n_iter = 1000\n",
    "w0 = np.ones(training_X.shape[1])\n",
    "x0 = np.ones(training_X.shape[1])\n",
    "\n",
    "# COST FUNCTIONS\n",
    "cost_training = loss(w0, training_X, training_y)\n",
    "cost_validation = loss(w0, validation_X, validation_y)\n",
    "\n",
    "# FIXED LEARNING RATE\n",
    "# training data:\n",
    "w_fixed_training, J_fixed_training, w_hist_fixed_training = gradient_descent_fixed(cost_training, x0, 0.00001, n_iter)\n",
    "# validation data:\n",
    "J_fixed_validation = [cost_validation(w_fixed) for w_fixed in w_hist_fixed_training]\n",
    "\n",
    "x = np.linspace(0, n_iter, n_iter//10)\n",
    "fig = plt.figure(1, figsize=(10,5))\n",
    "\n",
    "fixed = plt.subplot(121)\n",
    "fixed.plot(x, J_fixed_training, 'b', label='training')\n",
    "fixed.plot(x, J_fixed_validation, 'r', label='validation')\n",
    "fixed.set_xlabel('Iterations')\n",
    "fixed.set_ylabel(r'Cost function $J(x)$')\n",
    "fixed.set_title('Fixed Learning Rate: Cost vs. Iterations')\n",
    "fixed.legend()\n",
    "\n",
    "# VARIABLE LEARNING RATE\n",
    "# training data:\n",
    "w_variable_training, J_variable_training, w_hist_variable_training = gradient_descent_variable(cost_training, x0, 0.001, n_iter)\n",
    "# validation data:\n",
    "J_variable_validation = [cost_validation(w_variable) for w_variable in w_hist_variable_training]\n",
    "\n",
    "variable = plt.subplot(122)\n",
    "variable.plot(x, J_variable_training, 'b', label='training')\n",
    "variable.plot(x, J_variable_validation, 'r', label='validation')\n",
    "variable.set_xlabel('Iterations')\n",
    "variable.set_ylabel(r'Cost function $J(x)$')\n",
    "variable.set_title('Variable Learning Rate: Cost vs. Iterations')\n",
    "variable.legend()\n",
    "\n",
    "plt.tight_layout();"
   ]
  },
  {
   "cell_type": "markdown",
   "metadata": {},
   "source": [
    "### Part (e) (10 pts) Evaluating the model on the test set\n",
    "\n",
    "Finally, we have trained our models and are ready to evaluate them on the test set.  For binary classification one way to check our classifier is to make a confusion matrix of our predictions.\n",
    "$$\n",
    "C = \\begin{bmatrix}\n",
    "\\text{Predict 0, Actual 0} & \\text{Predict 0, Actual 1}\\\\\n",
    "\\text{Predict 1, Actual 0} & \\text{Predict 1, Actual 1}\n",
    "\\end{bmatrix}\n",
    "$$\n",
    "The diagonal elements are the number of samples that are correctly classified.\n",
    "\n",
    "Use your trained models to classify samples in the test set according to whether $h(x_i; w) \\ge 0.5$ or not and print the confusion matrices.  Also print the accuracy rate which is just the percentage of correctly classified examples for both models."
   ]
  },
  {
   "cell_type": "code",
   "execution_count": 70,
   "metadata": {},
   "outputs": [
    {
     "name": "stdout",
     "output_type": "stream",
     "text": [
      "FIXED LEARNING RATE:\n",
      "Confusion matrix =\n",
      " [[825 324]\n",
      " [137 714]]\n",
      "Accuracy: 76.95 %\n",
      "\n",
      "VARIABLE LEARNING RATE:\n",
      "Confusion matrix =\n",
      " [[742 138]\n",
      " [220 900]]\n",
      "Accuracy: 82.1 %\n"
     ]
    }
   ],
   "source": [
    "cost_test = loss(w0, test_X, test_y)\n",
    "\n",
    "fixed_test_h = logistic_unit(test_X, w_fixed_training)\n",
    "fixed_test_pred = [1 if h_i >= 0.5 else 0 for h_i in fixed_test_h]\n",
    "\n",
    "variable_test_h = logistic_unit(test_X, w_variable_training)\n",
    "variable_test_pred = [1 if h_i >= 0.5 else 0 for h_i in variable_test_h]\n",
    "\n",
    "def confusion_matrix(actual, pred):\n",
    "    conf_matrix = np.asarray([[0,0],[0,0]])\n",
    "    for i in range(actual.shape[0]):\n",
    "        if pred[i]:\n",
    "            if actual[i]: # pred 1 actual 1\n",
    "                conf_matrix[1,1] += 1\n",
    "            else: # pred 1 acutal 0\n",
    "                conf_matrix[1,0] += 1\n",
    "        else:\n",
    "            if actual[i]: # pred 0 actual 1\n",
    "                conf_matrix[0,1] += 1\n",
    "            else: # pred 0 acutal 0\n",
    "                conf_matrix[0,0] += 1\n",
    "    return conf_matrix\n",
    "def accuracy(conf_matrix):\n",
    "    TP = conf_matrix[1,1]\n",
    "    TN = conf_matrix[0,0]\n",
    "    FP = conf_matrix[0,1]\n",
    "    FN = conf_matrix[1,0]\n",
    "    return (TP+TN)/(TP+TN+FP+FN)*100\n",
    "\n",
    "print('FIXED LEARNING RATE:')\n",
    "fixed_conf_matrix = confusion_matrix(test_y, fixed_test_pred)\n",
    "print('Confusion matrix =\\n', confusion_matrix(test_y, fixed_test_pred))\n",
    "print('Accuracy:', accuracy(fixed_conf_matrix), '%\\n')\n",
    "\n",
    "print('VARIABLE LEARNING RATE:')\n",
    "variable_conf_matrix = confusion_matrix(test_y, variable_test_pred)\n",
    "print('Confusion matrix =\\n', confusion_matrix(test_y, variable_test_pred))\n",
    "print('Accuracy:', accuracy(variable_conf_matrix), '%')"
   ]
  },
  {
   "cell_type": "markdown",
   "metadata": {},
   "source": []
  },
  {
   "cell_type": "code",
   "execution_count": null,
   "metadata": {},
   "outputs": [],
   "source": []
  }
 ],
 "metadata": {
  "kernelspec": {
   "display_name": "Python 3",
   "language": "python",
   "name": "python3"
  },
  "language_info": {
   "codemirror_mode": {
    "name": "ipython",
    "version": 3
   },
   "file_extension": ".py",
   "mimetype": "text/x-python",
   "name": "python",
   "nbconvert_exporter": "python",
   "pygments_lexer": "ipython3",
   "version": "3.6.0"
  }
 },
 "nbformat": 4,
 "nbformat_minor": 2
}
