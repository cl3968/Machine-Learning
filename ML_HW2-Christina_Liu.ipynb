{
 "cells": [
  {
   "cell_type": "markdown",
   "metadata": {},
   "source": [
    "#### CSCI-UA.0473-​001 Introduction to Machine Learning\n",
    "\n",
    "# Homework 2\n",
    "\n",
    "\n",
    "### Name: Christina Liu\n",
    "\n",
    "\n",
    "### Due: Oct. 16, 2019\n",
    "\n",
    "\n",
    "## Goal:  The goal of this homework is to practice implementing a dual form of linear support vector machine without the optimizing algorithm.\n",
    "\n",
    "Please DO NOT change the position of any cell in this assignment. Read every line till the end, and try your best to implement everything."
   ]
  },
  {
   "cell_type": "markdown",
   "metadata": {},
   "source": [
    "You will need the following packages below to do the homework.  Please DO NOT import any other packages."
   ]
  },
  {
   "cell_type": "code",
   "execution_count": 1,
   "metadata": {},
   "outputs": [],
   "source": [
    "import numpy as np\n",
    "import matplotlib.pyplot as plt\n",
    "from sklearn import datasets, svm\n",
    "from scipy.optimize import minimize\n",
    "import matplotlib.pyplot as plt"
   ]
  },
  {
   "cell_type": "markdown",
   "metadata": {},
   "source": [
    "## Loading and spliting data (already finished).\n",
    "For this assignment, we utilize the iris dataset from the sklearn library. It is 4-dimensional data with 3 classes, but we only use the first 2 dimensions with 2 classes to implement and illustrate our support vector machine model.\n",
    "* Compared with the original example from https://scikit-learn.org/stable/auto_examples/exercises/plot_iris_exercise.html#sphx-glr-auto-examples-exercises-plot-iris-exercise-py, we make the class labels as $\\{1,-1\\}$. So do not modify most things including random seed and training/test split.\n",
    "* Feel free to print out some information of training/test data if you are curious.\n",
    "* `X_train`, `y_train` are `features`, `labels` for training, while `X_test`, `y_test` are for test."
   ]
  },
  {
   "cell_type": "code",
   "execution_count": 2,
   "metadata": {},
   "outputs": [],
   "source": [
    "iris = datasets.load_iris()\n",
    "X = iris.data\n",
    "y = iris.target\n",
    "\n",
    "X = X[y != 0, :2]\n",
    "y = y[y != 0]\n",
    "y[y==2] = -1\n",
    "\n",
    "n_sample = len(X)\n",
    "\n",
    "np.random.seed(0)\n",
    "order = np.random.permutation(n_sample)\n",
    "X = X[order]\n",
    "y = y[order].astype(np.float)\n",
    "\n",
    "X_train = X[:int(.9 * n_sample)]\n",
    "y_train = y[:int(.9 * n_sample)]\n",
    "X_test = X[int(.9 * n_sample):]\n",
    "y_test = y[int(.9 * n_sample):]"
   ]
  },
  {
   "cell_type": "markdown",
   "metadata": {},
   "source": [
    "## 1. Finish the function of computing inner product $\\langle u, v \\rangle = u^\\mathsf{T}v$\n",
    "* Be careful with the dimension of input and output. The inner product of two vectors in a same dimension should be a scalar.\n",
    "* Use `test_inner_product()` to test your function. Only if `Pass!` is printed out, your implementation might be fine."
   ]
  },
  {
   "cell_type": "code",
   "execution_count": 12,
   "metadata": {},
   "outputs": [
    {
     "name": "stdout",
     "output_type": "stream",
     "text": [
      "Pass!\n"
     ]
    }
   ],
   "source": [
    "def inner_product(vector_0, vector_1):\n",
    "    \"\"\"\n",
    "    Compute the inner product of two vectors.\n",
    "    \n",
    "    intput:\n",
    "        vector_0: np.ndarray(dim0,)\n",
    "        vector_1: np.ndarray(dim0,)\n",
    "    \n",
    "    output:\n",
    "        in_prdct: float\n",
    "    \"\"\"\n",
    "    ##TODO-start##\n",
    "    \n",
    "    if len(vector_0) != len(vector_1):\n",
    "          return 0\n",
    "\n",
    "    return sum(i[0] * i[1] for i in zip(vector_0, vector_1))\n",
    "#     return np.matmul(vector_0, vector_1)\n",
    "#     return np.dot(vector_0, vector_1)\n",
    "    \n",
    "    ##TODO-end##\n",
    "\n",
    "def test_inner_product():\n",
    "    v0 = np.array([0.12312, 0.5645, -0.3423])\n",
    "    v1 = np.array([-0.3927, 0.28471, 0.12])\n",
    "    \n",
    "    assert abs(inner_product(v0, v1) - 0.071293571) < 1e-6\n",
    "    \n",
    "    print('Pass!')\n",
    "test_inner_product()"
   ]
  },
  {
   "cell_type": "markdown",
   "metadata": {},
   "source": [
    "## 2. Finish the function of computing inner product matrix of training data.\n",
    "\n",
    "For training data $X\\in\\mathbb{R}^{m\\times d}, X_i\\in\\mathbb{R}^{d}$, we have the inner product matrix as\n",
    "$$\n",
    "\\mathbf{A}=(a_{ij})\\in\\mathbb{R}^{m\\times m}, a_{ij}=\\langle X_i, X_j\\rangle\\in\\mathbb{R}.\n",
    "$$\n",
    "* Note that, although there is already a numpy implementation of calculating such a matrix in a better form, you are required to implement it with the above `inner_product()` function for the future when we extend it for kernel functions (not in this assignment)."
   ]
  },
  {
   "cell_type": "code",
   "execution_count": 28,
   "metadata": {},
   "outputs": [],
   "source": [
    "def inner_product_matrix(train_data):\n",
    "    \"\"\"\n",
    "    Compute the inner product matrix of two vectors.\n",
    "    \n",
    "    input:\n",
    "        train_data: np.ndarray(nb_data, dim), nb_data data points in dimension of 'dim'\n",
    "    \n",
    "    output:\n",
    "        res: np.ndarray(nb_data, nb_data), each entry is the inner product of the corresponding pair of vectors\n",
    "    \"\"\"\n",
    "    ##TODO-start##\n",
    "    m=train_data.shape[0];\n",
    "    res=np.zeros((m,m));\n",
    "    for i in range(m):        \n",
    "        for j in range(m):\n",
    "            res[i][j] = inner_product(train_data[i], train_data[j])\n",
    "    ##TODO-end##\n",
    "    return res"
   ]
  },
  {
   "cell_type": "markdown",
   "metadata": {},
   "source": [
    "## 3. Finish target function of the dual form\n",
    "Recall the target function of dual form is, where $\\alpha\\in\\mathbb{R}^m$,\n",
    "$$\n",
    "\\max_{\\alpha} W(\\alpha)=\\sum_{i=1}^m \\alpha_i - \\frac{1}{2}\\sum_{i=1}^{m}\\sum_{j=1}^{m}y_iy_j\\alpha_i\\alpha_j\\langle X_i, X_j\\rangle.\n",
    "$$\n",
    "However, since we do not manually implement the optimization algorithm in this assignment, we need to call a `scipy.optimize.minimize()` function to automatically optimize $\\alpha$. (Reference: https://docs.scipy.org/doc/scipy/reference/generated/scipy.optimize.minimize.html) \n",
    "* Note that the `minimize()` function is to minimize the target function, so we take a trick to get the target $\\alpha$ here as\n",
    "$$\n",
    "\\alpha^*=\\text{argmax}_{\\alpha}[W(\\alpha)]=\\text{argmin}_{\\alpha}[-W(\\alpha)].\n",
    "$$"
   ]
  },
  {
   "cell_type": "code",
   "execution_count": 32,
   "metadata": {},
   "outputs": [],
   "source": [
    "def target_function(alpha):\n",
    "    \"\"\"\n",
    "    The target function of dual form.\n",
    "    \n",
    "    input:\n",
    "        alpha: np.ndarray(nb_dim,), the parameter alpha we want to optimize\n",
    "    \n",
    "    output:\n",
    "        target: float, value of the target function. Pay attention the sign of the function here with the above explanation.\n",
    "    \"\"\"\n",
    "    \n",
    "    ##TODO-start##\n",
    "    \n",
    "    summ=0\n",
    "    m=X_train.shape[0];\n",
    "    for i in range(m):        \n",
    "        for j in range(m):\n",
    "            summ+=y_train[i]*y_train[j]*alpha[i]*alpha[j]*inner_product(X_train[i],X_train[j])\n",
    "            \n",
    "    W = np.sum(alpha) - 0.5*(summ)\n",
    "    \n",
    "    return -W\n",
    "    \n",
    "    ##TODO-end##"
   ]
  },
  {
   "cell_type": "markdown",
   "metadata": {},
   "source": [
    "## 4. Initialization, bounds, constraints of parameters $\\alpha$\n",
    "Recall that (choose any $C>0$ you want)\n",
    "* Bounds: $0\\le\\alpha_i\\le C, i=1,\\dots,m$.\n",
    "* Constraints: $\\sum_{i=1}^m \\alpha_i y_i=0$.\n",
    "* Initialization (suggested in SMO): $\\alpha_i=0, i=1,\\dots,m$.\n",
    "\n",
    "Hence, you need to complete the programming of initializations, bounds, constraints to feed them into the `minimize()` function to finish the constrained optimization. Please carefully look into https://docs.scipy.org/doc/scipy/reference/generated/scipy.optimize.minimize.html for explanations. This page has all the information you need.\n",
    "\n",
    "Hints:\n",
    "* Read parameter explanations of `fun`, `x0`, `bounds`, `constraints` on the top, corresponding to target function, initialization, bounds, constraints.\n",
    "* Imitate the last example of setting initilization, bounds, constraints on the bottom.\n",
    "* If you want equality instead of inequality in constraints, change `'type': 'ineq', 'fun':` in `cons` to `'type': 'eq', 'fun':`\n",
    "* Of course, in our case, bounds can also be viewed as a kind of constraints, but we suggest you follow the definitions above to make your programming easier for bounds.\n",
    "* Equality constraint means that the constraint function result is to be zero whereas inequality means that it is to be non-negative."
   ]
  },
  {
   "cell_type": "code",
   "execution_count": 33,
   "metadata": {},
   "outputs": [],
   "source": [
    "C = 10\n",
    "\n",
    "m = X_train.shape[0]\n",
    "##TODO-start##\n",
    "init = np.zeros(m) #set alpha to zeros (input from target)\n",
    "bnds = [(0,C)]*m\n",
    "cons = ({'type': 'eq', 'fun': lambda alpha:  inner_product(alpha, y_train)})\n",
    "##TODO-end##"
   ]
  },
  {
   "cell_type": "markdown",
   "metadata": {},
   "source": [
    "## 5. Call `minimize()` with your target function, initializaiton, bounds, constraints (already finished)\n",
    "Please DO NOT change anything here, including the `method` parameter. May take **one minute** to finish calculation.\n",
    "\n",
    "There are some facts you should know:\n",
    "* `final_alpha` is the optimal $\\alpha$ you get for the SVM model.\n",
    "* `bias` is the bias term $b$ in SVM. You will learn how to update it in SMO algorithm. In this assignment, instead we directly calculate it with `final_alpha` as follow\n",
    "$$\n",
    "    b = \\frac{\\sum_{i=1}^{m}\\left(y_i - \\sum_{j=1}^m \\alpha_j y_j \\langle x_j, x_i)\\right)}{m}\n",
    "$$\n",
    "* If your implementations above is perfect, there will not be an error thrown and it will show a figure similar to the first one in https://scikit-learn.org/stable/auto_examples/exercises/plot_iris_exercise.html#sphx-glr-auto-examples-exercises-plot-iris-exercise-py (ignore a color swap)."
   ]
  },
  {
   "cell_type": "code",
   "execution_count": 34,
   "metadata": {},
   "outputs": [
    {
     "data": {
      "image/png": "[encoded data removed]",
      "text/plain": [
       "<Figure size 432x288 with 1 Axes>"
      ]
     },
     "metadata": {
      "needs_background": "light"
     },
     "output_type": "display_data"
    }
   ],
   "source": [
    "# Call the minimize() function\n",
    "res = minimize(target_function, init, method='SLSQP', bounds=bnds,\n",
    "               constraints=cons)\n",
    "\n",
    "final_alpha = res.x\n",
    "\n",
    "def SVM(x, alpha, b=0):\n",
    "    sum = 0\n",
    "    for i in range(X_train.shape[0]):\n",
    "        sum += alpha[i] * y_train[i] * inner_product(X_train[i], x)\n",
    "    \n",
    "    sum += b\n",
    "    \n",
    "    return sum\n",
    "\n",
    "bias = 0\n",
    "\n",
    "for i in range(X_train.shape[0]):\n",
    "    bias += y_train[i] - SVM(X_train[i], final_alpha, 0)\n",
    "\n",
    "bias = bias / X_train.shape[0]\n",
    "\n",
    "plt.figure()\n",
    "plt.clf()\n",
    "plt.scatter(X[:, 0], X[:, 1], c=y, zorder=10, cmap=plt.cm.Paired,\n",
    "            edgecolor='k', s=20)\n",
    "\n",
    "# Circle out the test data\n",
    "plt.scatter(X_test[:, 0], X_test[:, 1], s=80, facecolors='none',\n",
    "            zorder=10, edgecolor='k')\n",
    "\n",
    "plt.axis('tight')\n",
    "x_min = X[:, 0].min()\n",
    "x_max = X[:, 0].max()\n",
    "y_min = X[:, 1].min()\n",
    "y_max = X[:, 1].max()\n",
    "\n",
    "XX, YY = np.mgrid[x_min:x_max:200j, y_min:y_max:200j]\n",
    "XXYY = np.c_[XX.ravel(), YY.ravel()]\n",
    "ZZ = []\n",
    "for i in range(XXYY.shape[0]):\n",
    "    ZZ.append(SVM(XXYY[i], final_alpha, bias))\n",
    "    \n",
    "Z = np.array(ZZ)\n",
    "\n",
    "# Put the result into a color plot\n",
    "Z = Z.reshape(XX.shape)\n",
    "plt.pcolormesh(XX, YY, Z > 0, cmap=plt.cm.Paired)\n",
    "plt.contour(XX, YY, Z, colors=['k', 'k', 'k'],\n",
    "            linestyles=['--', '-', '--'], levels=[-.5, 0, .5])\n",
    "plt.show()"
   ]
  },
  {
   "cell_type": "markdown",
   "metadata": {},
   "source": [
    "## 6. Estimate your linear SVM model (you need to implement)\n",
    "Finally, let us estimate the performance of the linear SVM model. There are two numbers we need to calculate: accuracies on the training and test set. The SVM function $f()$ is provided above as `SVM()`. Its output for now is a float number for an input data point. You need to compare its sign with the label: if they are both positive or negative, it is correct, otherwise incorrect.\n",
    "\n",
    "* $\\text{Correct for data $i $?} = \\text{if }y_i * f(X_i)>0$\n",
    "* Call `SVM` in the form of `SVM(x, final_alpha, bias)` where `x` is the feature vector of **one** data point.\n",
    "* **Print** the accuracies (in percentage or decimal), not just return it."
   ]
  },
  {
   "cell_type": "code",
   "execution_count": 36,
   "metadata": {},
   "outputs": [
    {
     "name": "stdout",
     "output_type": "stream",
     "text": [
      "0.7333333333333333\n",
      "0.7\n"
     ]
    }
   ],
   "source": [
    "def estimate(data, labels):\n",
    "    \"\"\"\n",
    "    The estimation function.\n",
    "    \n",
    "    input:\n",
    "        data: np.ndarray(nb_data, dim), a bunch of data to predict with\n",
    "        labels: np.ndarray(nb_data, ), the ground truth labels of data\n",
    "    \n",
    "    output:\n",
    "        None.\n",
    "        Print the accuracies\n",
    "    \"\"\"\n",
    "    \n",
    "    assert data.shape[0] == labels.shape[0]\n",
    "    \n",
    "    ##TODO-start##\n",
    "    count =0;\n",
    "    for i in range(data.shape[0]):\n",
    "        f_x=SVM(data[i],final_alpha,bias)\n",
    "        y=labels[i]\n",
    "        if (y*f_x > 0):\n",
    "            count=count+1\n",
    "        \n",
    "    print(count/data.shape[0])\n",
    "    ##TODO-end##\n",
    "        \n",
    "estimate(X_train, y_train)\n",
    "estimate(X_test, y_test)"
   ]
  },
  {
   "cell_type": "markdown",
   "metadata": {},
   "source": [
    "## 7.  Constrained Optimization\n",
    "\n",
    "In this problem you will practice writing down the Lagrangians of different constrained optimization problems."
   ]
  },
  {
   "cell_type": "markdown",
   "metadata": {},
   "source": [
    "### Part (a)\n",
    "\n",
    "Consider the constrained optimization problem\n",
    "$$\n",
    "\\min_{x}\\ x^TAx, \\quad \\text{ such that }\\quad \\|x\\|^2 = 1\n",
    "$$\n",
    "where $A$ is a real, symmetric, and positive definite matrix.  Write down the Lagrangian and the system of equations that the stationary points must satisfy."
   ]
  },
  {
   "cell_type": "markdown",
   "metadata": {},
   "source": [
    "Answer goes here: The Lagrangian is: $$L(x,v) = f(x) - \\lambda (g(x) - c) = x^T Ax - \\lambda (||x||^2 -1 )$$ \n",
    "$$f(x) = x^T Ax $$\n",
    "$$g(x) = ||x||^2 = 1$$\n",
    "and the system of equations that the stationary points must satisfy are: $$\\frac{\\partial}{\\partial x}L = 0 = (2x) (A - \\lambda )$$ $$ \\frac{\\partial}{\\partial \\lambda}L = 0 = -||x||^2+1 $$"
   ]
  },
  {
   "cell_type": "markdown",
   "metadata": {},
   "source": [
    "### Part (b)\n",
    "\n",
    "What are the stationary points of the Lagrangian in terms of the matrix $A$?  In particular, what is the minimizer $x$ and minimal value?  "
   ]
  },
  {
   "cell_type": "markdown",
   "metadata": {},
   "source": [
    "Answer goes here: The minimizer x is the eigenvector of A.\n",
    "The minimal value is the eigenvalue of A."
   ]
  },
  {
   "cell_type": "markdown",
   "metadata": {},
   "source": [
    "### Part (c)\n",
    "\n",
    "Write down the Lagrangian and system of equations for the stationary points for the following constrained minimization problem.\n",
    "$$\n",
    "\\min_{x,y} 10x^2 + 5y(y - 1), \\quad \\text{ such that }\\quad x + y = 4\n",
    "$$\n",
    "What is the minimizer $(x,y)$?"
   ]
  },
  {
   "cell_type": "markdown",
   "metadata": {},
   "source": [
    "Answer goes here: $$L(x,v) = f(x) - \\lambda (g(x) - c) = 10x^2+5y(y-1) - \\lambda (x+y-4) = 10x^2 +5y^2 -5y - \\lambda x -\\lambda y +4\\lambda$$ \n",
    "$$f(x) = 10x^2 + 5y(y-1) $$\n",
    "$$g(x) = x+4=4$$\n",
    "$$\\frac{\\partial}{\\partial x}L = 0 = 20x- \\lambda$$\n",
    "$$\\frac{\\partial}{\\partial y}L = 0 = 10y - 5- \\lambda$$\n",
    "$$\\lambda = 20x = 10y-5$$\n",
    "$$x= \\frac{1}{2}y - \\frac{1}{4}$$\n",
    "$$x+y=4=\\frac{1}{2}y - \\frac{1}{4} + y =4$$\n",
    "$$4(\\frac{3}{2}y - \\frac{1}{4}=4)$$\n",
    "$$6y-1=16$$\n",
    "$$6y=17$$\n",
    "$$y=\\frac{17}{6} x=\\frac{7}{6}$$\n",
    "$$(x,y)=(\\frac{7}{6},\\frac{17}{6})$$"
   ]
  },
  {
   "cell_type": "code",
   "execution_count": null,
   "metadata": {},
   "outputs": [],
   "source": []
  },
  {
   "cell_type": "code",
   "execution_count": null,
   "metadata": {},
   "outputs": [],
   "source": []
  }
 ],
 "metadata": {
  "kernelspec": {
   "display_name": "Python 3",
   "language": "python",
   "name": "python3"
  },
  "language_info": {
   "codemirror_mode": {
    "name": "ipython",
    "version": 3
   },
   "file_extension": ".py",
   "mimetype": "text/x-python",
   "name": "python",
   "nbconvert_exporter": "python",
   "pygments_lexer": "ipython3",
   "version": "3.7.3"
  },
  "varInspector": {
   "cols": {
    "lenName": 16,
    "lenType": 16,
    "lenVar": 40
   },
   "kernels_config": {
    "python": {
     "delete_cmd_postfix": "",
     "delete_cmd_prefix": "del ",
     "library": "var_list.py",
     "varRefreshCmd": "print(var_dic_list())"
    },
    "r": {
     "delete_cmd_postfix": ") ",
     "delete_cmd_prefix": "rm(",
     "library": "var_list.r",
     "varRefreshCmd": "cat(var_dic_list()) "
    }
   },
   "position": {
    "height": "374px",
    "left": "1310px",
    "right": "20px",
    "top": "120px",
    "width": "350px"
   },
   "types_to_exclude": [
    "module",
    "function",
    "builtin_function_or_method",
    "instance",
    "_Feature"
   ],
   "window_display": false
  }
 },
 "nbformat": 4,
 "nbformat_minor": 2
}
